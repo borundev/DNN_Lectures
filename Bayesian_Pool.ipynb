{
  "nbformat": 4,
  "nbformat_minor": 5,
  "metadata": {
    "kernelspec": {
      "display_name": "PyTorch",
      "language": "python",
      "name": "pytorch"
    },
    "language_info": {
      "codemirror_mode": {
        "name": "ipython",
        "version": 3
      },
      "file_extension": ".py",
      "mimetype": "text/x-python",
      "name": "python",
      "nbconvert_exporter": "python",
      "pygments_lexer": "ipython3",
      "version": "3.9.1"
    },
    "colab": {
      "name": "Bayesian Pool.ipynb",
      "provenance": [],
      "collapsed_sections": [],
      "include_colab_link": true
    }
  },
  "cells": [
    {
      "cell_type": "markdown",
      "metadata": {
        "id": "view-in-github",
        "colab_type": "text"
      },
      "source": [
        "<a href=\"https://colab.research.google.com/github/borundev/DNN_Lectures/blob/master/Bayesian_Pool.ipynb\" target=\"_parent\"><img src=\"https://colab.research.google.com/assets/colab-badge.svg\" alt=\"Open In Colab\"/></a>"
      ]
    },
    {
      "cell_type": "markdown",
      "metadata": {
        "id": "artificial-miracle"
      },
      "source": [
        "# A Bayesian Pool Game\n",
        "\n",
        "Alice and Bob play a game where Carol comes in randomly pics a location on a pool table but does not tell Alice and Bob about it. Then Alice and Bob take turns shooting the ball and if it lands on the left of Carol's mark Alice scores a point and if it ends on the right Bob scores a point. As a game its bit contrived but it is useful to demonstrate the effectiveness of Bayesian analysis.\n",
        "\n",
        "If Carol's initial location is given by $p \\in [0,1]$ then on each shot Alice wins with a probability $p$ and Bob win's with a probability $(1-p)$. The first one to score 6 points wins the game.\n",
        "\n",
        "So the question is if after $K$ games Alice has won $n_A$ and Bob has won $n_B = K-n_A$ games, what are the odds of Bob winning the tournament? \n",
        "\n",
        "A Frequentist approach would look like this. The point estimate of $p$ is \n",
        "\n",
        "$$\n",
        "\\hat p = \\frac{n_A}{K}\n",
        "$$\n",
        "\n",
        "The maximum number of games that are required to be played to get a decision is 11. Now Bob can win by scoring at least $6-n_B$ in the remaining $11-K$ games so\n",
        "\n",
        "$$\n",
        "P(B|D)_F = \\sum_{\\tilde n_B=6-n_B}^{11-K} \\phantom{a}^{11-K} C_{\\tilde n_B} (\\frac{n_B}{K})^{\\tilde n_B} (\\frac{K-n_B}{K})^{11-K-\\tilde n_B}\n",
        "$$"
      ],
      "id": "artificial-miracle"
    },
    {
      "cell_type": "markdown",
      "metadata": {
        "id": "revised-dividend"
      },
      "source": [
        "The Bayesian approach is different, and as we will confirm, correct. What we want is the probability of Bob's win given the data.\n",
        "\n",
        "$$\n",
        "P(B|D) = \\int P(B|p,D) P(p|D) dp \\\\\n",
        "= \\int P(B|p,D) \\frac{P(D|p) P(p)}{P(D)} dp \\\\\n",
        "= \\frac{ \\int P(B|p,D) P(D|p) P(p) dp}{\\int P(D|p) P(p) dp}\n",
        "$$"
      ],
      "id": "revised-dividend"
    },
    {
      "cell_type": "markdown",
      "metadata": {
        "id": "unauthorized-disclaimer"
      },
      "source": [
        "Let's work out the denominator first\n",
        "\n",
        "$$\n",
        "P(p) = 1 \n",
        "$$\n",
        "so we do not need to worry about it. We have\n",
        "\n",
        "$$\n",
        "P(D|p) = \\phantom{a}^K C_{n_B} (1-p)^{n_B} p^{K-n_B}\n",
        "$$\n",
        "giving us\n",
        "$$\n",
        "P(D) = \\phantom{a}^K C_{n_B} \\int_0^1 p^{K-n_B} (1-p)^{n_B} dp  \\\\\n",
        "= \\phantom{a}^K C_{n_B} \\frac{ n_B! (K-n_B)!}{K+1!} \\\\\n",
        "=\\frac{1}{K+1}\n",
        "$$\n",
        "where we have used the defintion of Beta functions and their relations with Gamma functions.\n",
        "\n",
        "What a cute little result. Think about why this is the case.\n",
        "\n",
        "Now let's work on the neumerator. We have\n",
        "$$\n",
        "P(B|p,D)P(D|p) = \\sum_{\\tilde n_B=6-n_B}^{11-K} \\phantom{a}^{11-K} C_{\\tilde n_B} \\phantom{a}^{K} C_{n_B} (1-p)^{\\tilde n_B+n_B} p^{11-\\tilde n_B -n_B}\n",
        "$$\n",
        "\n",
        "giving us\n",
        "\n",
        "$$\n",
        "P(B|D) = \\frac{(K+1) \\phantom{a}^{K} C_{n_B}}{12!} \\sum_{\\tilde n_B=6-n_B}^{11-K} \\phantom{a}^{11-K} C_{\\tilde n_B}  (n_B+ \\tilde n_B)! (11-n_B- \\tilde n_B)! \n",
        "$$"
      ],
      "id": "unauthorized-disclaimer"
    },
    {
      "cell_type": "code",
      "metadata": {
        "id": "indian-representation"
      },
      "source": [
        "import numpy as np\n",
        "from scipy.special import gamma"
      ],
      "id": "indian-representation",
      "execution_count": 5,
      "outputs": []
    },
    {
      "cell_type": "code",
      "metadata": {
        "id": "sacred-prison"
      },
      "source": [
        "def fac(a):\n",
        "    return gamma(a+1)\n",
        "\n",
        "def comb(a,b):\n",
        "    return fac(a)/fac(b)/fac(a-b)\n",
        "\n",
        "\n",
        "def pB(K,nb):\n",
        "    if nb>K:\n",
        "        return 0\n",
        "    z=(K+1)*comb(K,nb)/fac(12)\n",
        "    return z*np.sum([comb(11-K,nbt)*fac(nb+nbt)*fac(11-nb-nbt) for nbt in range(6-nb,12-K)])\n",
        "\n",
        "def pF(K,nb):\n",
        "    if nb>K:\n",
        "        return 0\n",
        "    p=1-nb/K\n",
        "    return np.sum([comb(11-K,nbt) * (1-p)**nbt * (p)**(11-K-nbt) for nbt in range(6-nb,12-K)])"
      ],
      "id": "sacred-prison",
      "execution_count": 6,
      "outputs": []
    },
    {
      "cell_type": "code",
      "metadata": {
        "colab": {
          "base_uri": "https://localhost:8080/"
        },
        "id": "based-rhythm",
        "outputId": "995906c6-bd44-40eb-e22b-145add0e7ef4"
      },
      "source": [
        "K=8\n",
        "nb=3\n",
        "pB(K,nb),pF(K,nb)"
      ],
      "id": "based-rhythm",
      "execution_count": 7,
      "outputs": [
        {
          "output_type": "execute_result",
          "data": {
            "text/plain": [
              "(0.0909090909090909, 0.052734375)"
            ]
          },
          "metadata": {},
          "execution_count": 7
        }
      ]
    },
    {
      "cell_type": "code",
      "metadata": {
        "colab": {
          "base_uri": "https://localhost:8080/"
        },
        "id": "creative-guatemala",
        "outputId": "1ed1af52-1f5e-4502-8950-bc50079ba9dc"
      },
      "source": [
        "import numpy as np\n",
        "np.random.seed(0)\n",
        "\n",
        "# play 100000 games with randomly-drawn p, between 0 and 1\n",
        "p = np.random.random(10000000)\n",
        "\n",
        "# each game needs at most 11 rolls for one player to reach 6 wins\n",
        "rolls = np.random.random((11, len(p)))\n",
        "\n",
        "# count the cumulative wins for Alice and Bob at each roll\n",
        "Alice_count = np.cumsum(rolls < p, 0)\n",
        "Bob_count = np.cumsum(rolls >= p, 0)\n",
        "\n",
        "# sanity check: total number of wins should equal number of rolls\n",
        "total_wins = Alice_count + Bob_count\n",
        "assert np.all(total_wins.T == np.arange(1, 12))\n",
        "print(\"(Sanity check passed)\")"
      ],
      "id": "creative-guatemala",
      "execution_count": 9,
      "outputs": [
        {
          "output_type": "stream",
          "name": "stdout",
          "text": [
            "(Sanity check passed)\n"
          ]
        }
      ]
    },
    {
      "cell_type": "code",
      "metadata": {
        "id": "ultimate-original"
      },
      "source": [
        "results=[]\n",
        "for K in range(1,12):\n",
        "    for nb in range(K+1):\n",
        "        good_games=Bob_count[K-1]==nb\n",
        "        bob_won=np.sum(Bob_count[:,good_games][10] >= 6)\n",
        "        mc_prob = bob_won * 1. / good_games.sum()\n",
        "\n",
        "        # compute the probability\n",
        "        results.append([K,nb,pB(K,nb),pF(K,nb),mc_prob])"
      ],
      "id": "ultimate-original",
      "execution_count": 10,
      "outputs": []
    },
    {
      "cell_type": "code",
      "metadata": {
        "id": "prostate-charm"
      },
      "source": [
        "import pandas as pd"
      ],
      "id": "prostate-charm",
      "execution_count": 11,
      "outputs": []
    },
    {
      "cell_type": "code",
      "metadata": {
        "id": "interim-measure"
      },
      "source": [
        "df=pd.DataFrame(results)"
      ],
      "id": "interim-measure",
      "execution_count": 12,
      "outputs": []
    },
    {
      "cell_type": "code",
      "metadata": {
        "id": "confidential-longer"
      },
      "source": [
        "df.columns=['K','nb','Bayesian','Frequentist','MC']"
      ],
      "id": "confidential-longer",
      "execution_count": 13,
      "outputs": []
    },
    {
      "cell_type": "code",
      "metadata": {
        "id": "boring-filename"
      },
      "source": [
        "df=df.set_index(['K','nb'])"
      ],
      "id": "boring-filename",
      "execution_count": 14,
      "outputs": []
    },
    {
      "cell_type": "markdown",
      "metadata": {
        "id": "CAWPL4Cjk6sF"
      },
      "source": [
        "We look at only rows where all values are not 0 or 1"
      ],
      "id": "CAWPL4Cjk6sF"
    },
    {
      "cell_type": "code",
      "metadata": {
        "id": "exciting-amber"
      },
      "source": [
        "df2=df[~np.stack([np.isclose(df,0).all(1),np.isclose(df,1).all(1)],1).any(1)]"
      ],
      "id": "exciting-amber",
      "execution_count": 17,
      "outputs": []
    },
    {
      "cell_type": "code",
      "metadata": {
        "colab": {
          "base_uri": "https://localhost:8080/",
          "height": 1000
        },
        "id": "historical-preservation",
        "outputId": "b40d68f9-3bd4-400e-8333-bdf4ae0c19d1"
      },
      "source": [
        "df2"
      ],
      "id": "historical-preservation",
      "execution_count": 18,
      "outputs": [
        {
          "output_type": "execute_result",
          "data": {
            "text/html": [
              "<div>\n",
              "<style scoped>\n",
              "    .dataframe tbody tr th:only-of-type {\n",
              "        vertical-align: middle;\n",
              "    }\n",
              "\n",
              "    .dataframe tbody tr th {\n",
              "        vertical-align: top;\n",
              "    }\n",
              "\n",
              "    .dataframe thead th {\n",
              "        text-align: right;\n",
              "    }\n",
              "</style>\n",
              "<table border=\"1\" class=\"dataframe\">\n",
              "  <thead>\n",
              "    <tr style=\"text-align: right;\">\n",
              "      <th></th>\n",
              "      <th></th>\n",
              "      <th>Bayesian</th>\n",
              "      <th>Frequentist</th>\n",
              "      <th>MC</th>\n",
              "    </tr>\n",
              "    <tr>\n",
              "      <th>K</th>\n",
              "      <th>nb</th>\n",
              "      <th></th>\n",
              "      <th></th>\n",
              "      <th></th>\n",
              "    </tr>\n",
              "  </thead>\n",
              "  <tbody>\n",
              "    <tr>\n",
              "      <th rowspan=\"2\" valign=\"top\">1</th>\n",
              "      <th>0</th>\n",
              "      <td>0.227273</td>\n",
              "      <td>0.000000</td>\n",
              "      <td>0.227231</td>\n",
              "    </tr>\n",
              "    <tr>\n",
              "      <th>1</th>\n",
              "      <td>0.772727</td>\n",
              "      <td>1.000000</td>\n",
              "      <td>0.772754</td>\n",
              "    </tr>\n",
              "    <tr>\n",
              "      <th rowspan=\"3\" valign=\"top\">2</th>\n",
              "      <th>0</th>\n",
              "      <td>0.090909</td>\n",
              "      <td>0.000000</td>\n",
              "      <td>0.090904</td>\n",
              "    </tr>\n",
              "    <tr>\n",
              "      <th>1</th>\n",
              "      <td>0.500000</td>\n",
              "      <td>0.500000</td>\n",
              "      <td>0.500017</td>\n",
              "    </tr>\n",
              "    <tr>\n",
              "      <th>2</th>\n",
              "      <td>0.909091</td>\n",
              "      <td>1.000000</td>\n",
              "      <td>0.909032</td>\n",
              "    </tr>\n",
              "    <tr>\n",
              "      <th rowspan=\"4\" valign=\"top\">3</th>\n",
              "      <th>0</th>\n",
              "      <td>0.030303</td>\n",
              "      <td>0.000000</td>\n",
              "      <td>0.030300</td>\n",
              "    </tr>\n",
              "    <tr>\n",
              "      <th>1</th>\n",
              "      <td>0.272727</td>\n",
              "      <td>0.087944</td>\n",
              "      <td>0.273068</td>\n",
              "    </tr>\n",
              "    <tr>\n",
              "      <th>2</th>\n",
              "      <td>0.727273</td>\n",
              "      <td>0.912056</td>\n",
              "      <td>0.726722</td>\n",
              "    </tr>\n",
              "    <tr>\n",
              "      <th>3</th>\n",
              "      <td>0.969697</td>\n",
              "      <td>1.000000</td>\n",
              "      <td>0.969813</td>\n",
              "    </tr>\n",
              "    <tr>\n",
              "      <th rowspan=\"5\" valign=\"top\">4</th>\n",
              "      <th>0</th>\n",
              "      <td>0.007576</td>\n",
              "      <td>0.000000</td>\n",
              "      <td>0.007599</td>\n",
              "    </tr>\n",
              "    <tr>\n",
              "      <th>1</th>\n",
              "      <td>0.121212</td>\n",
              "      <td>0.012878</td>\n",
              "      <td>0.121435</td>\n",
              "    </tr>\n",
              "    <tr>\n",
              "      <th>2</th>\n",
              "      <td>0.500000</td>\n",
              "      <td>0.500000</td>\n",
              "      <td>0.500000</td>\n",
              "    </tr>\n",
              "    <tr>\n",
              "      <th>3</th>\n",
              "      <td>0.878788</td>\n",
              "      <td>0.987122</td>\n",
              "      <td>0.878504</td>\n",
              "    </tr>\n",
              "    <tr>\n",
              "      <th>4</th>\n",
              "      <td>0.992424</td>\n",
              "      <td>1.000000</td>\n",
              "      <td>0.992425</td>\n",
              "    </tr>\n",
              "    <tr>\n",
              "      <th rowspan=\"6\" valign=\"top\">5</th>\n",
              "      <th>0</th>\n",
              "      <td>0.001082</td>\n",
              "      <td>0.000000</td>\n",
              "      <td>0.001056</td>\n",
              "    </tr>\n",
              "    <tr>\n",
              "      <th>1</th>\n",
              "      <td>0.040043</td>\n",
              "      <td>0.001600</td>\n",
              "      <td>0.040166</td>\n",
              "    </tr>\n",
              "    <tr>\n",
              "      <th>2</th>\n",
              "      <td>0.283550</td>\n",
              "      <td>0.179200</td>\n",
              "      <td>0.284041</td>\n",
              "    </tr>\n",
              "    <tr>\n",
              "      <th>3</th>\n",
              "      <td>0.716450</td>\n",
              "      <td>0.820800</td>\n",
              "      <td>0.716016</td>\n",
              "    </tr>\n",
              "    <tr>\n",
              "      <th>4</th>\n",
              "      <td>0.959957</td>\n",
              "      <td>0.998400</td>\n",
              "      <td>0.960024</td>\n",
              "    </tr>\n",
              "    <tr>\n",
              "      <th>5</th>\n",
              "      <td>0.998918</td>\n",
              "      <td>1.000000</td>\n",
              "      <td>0.998931</td>\n",
              "    </tr>\n",
              "    <tr>\n",
              "      <th rowspan=\"5\" valign=\"top\">6</th>\n",
              "      <th>1</th>\n",
              "      <td>0.007576</td>\n",
              "      <td>0.000129</td>\n",
              "      <td>0.007586</td>\n",
              "    </tr>\n",
              "    <tr>\n",
              "      <th>2</th>\n",
              "      <td>0.121212</td>\n",
              "      <td>0.045267</td>\n",
              "      <td>0.121537</td>\n",
              "    </tr>\n",
              "    <tr>\n",
              "      <th>3</th>\n",
              "      <td>0.500000</td>\n",
              "      <td>0.500000</td>\n",
              "      <td>0.500472</td>\n",
              "    </tr>\n",
              "    <tr>\n",
              "      <th>4</th>\n",
              "      <td>0.878788</td>\n",
              "      <td>0.954733</td>\n",
              "      <td>0.878431</td>\n",
              "    </tr>\n",
              "    <tr>\n",
              "      <th>5</th>\n",
              "      <td>0.992424</td>\n",
              "      <td>0.999871</td>\n",
              "      <td>0.992458</td>\n",
              "    </tr>\n",
              "    <tr>\n",
              "      <th rowspan=\"4\" valign=\"top\">7</th>\n",
              "      <th>2</th>\n",
              "      <td>0.030303</td>\n",
              "      <td>0.006664</td>\n",
              "      <td>0.030335</td>\n",
              "    </tr>\n",
              "    <tr>\n",
              "      <th>3</th>\n",
              "      <td>0.272727</td>\n",
              "      <td>0.213661</td>\n",
              "      <td>0.273299</td>\n",
              "    </tr>\n",
              "    <tr>\n",
              "      <th>4</th>\n",
              "      <td>0.727273</td>\n",
              "      <td>0.786339</td>\n",
              "      <td>0.727164</td>\n",
              "    </tr>\n",
              "    <tr>\n",
              "      <th>5</th>\n",
              "      <td>0.969697</td>\n",
              "      <td>0.993336</td>\n",
              "      <td>0.969692</td>\n",
              "    </tr>\n",
              "    <tr>\n",
              "      <th rowspan=\"3\" valign=\"top\">8</th>\n",
              "      <th>3</th>\n",
              "      <td>0.090909</td>\n",
              "      <td>0.052734</td>\n",
              "      <td>0.091266</td>\n",
              "    </tr>\n",
              "    <tr>\n",
              "      <th>4</th>\n",
              "      <td>0.500000</td>\n",
              "      <td>0.500000</td>\n",
              "      <td>0.500448</td>\n",
              "    </tr>\n",
              "    <tr>\n",
              "      <th>5</th>\n",
              "      <td>0.909091</td>\n",
              "      <td>0.947266</td>\n",
              "      <td>0.908779</td>\n",
              "    </tr>\n",
              "    <tr>\n",
              "      <th rowspan=\"2\" valign=\"top\">9</th>\n",
              "      <th>4</th>\n",
              "      <td>0.227273</td>\n",
              "      <td>0.197531</td>\n",
              "      <td>0.227897</td>\n",
              "    </tr>\n",
              "    <tr>\n",
              "      <th>5</th>\n",
              "      <td>0.772727</td>\n",
              "      <td>0.802469</td>\n",
              "      <td>0.772519</td>\n",
              "    </tr>\n",
              "    <tr>\n",
              "      <th>10</th>\n",
              "      <th>5</th>\n",
              "      <td>0.500000</td>\n",
              "      <td>0.500000</td>\n",
              "      <td>0.500202</td>\n",
              "    </tr>\n",
              "  </tbody>\n",
              "</table>\n",
              "</div>"
            ],
            "text/plain": [
              "       Bayesian  Frequentist        MC\n",
              "K  nb                                 \n",
              "1  0   0.227273     0.000000  0.227231\n",
              "   1   0.772727     1.000000  0.772754\n",
              "2  0   0.090909     0.000000  0.090904\n",
              "   1   0.500000     0.500000  0.500017\n",
              "   2   0.909091     1.000000  0.909032\n",
              "3  0   0.030303     0.000000  0.030300\n",
              "   1   0.272727     0.087944  0.273068\n",
              "   2   0.727273     0.912056  0.726722\n",
              "   3   0.969697     1.000000  0.969813\n",
              "4  0   0.007576     0.000000  0.007599\n",
              "   1   0.121212     0.012878  0.121435\n",
              "   2   0.500000     0.500000  0.500000\n",
              "   3   0.878788     0.987122  0.878504\n",
              "   4   0.992424     1.000000  0.992425\n",
              "5  0   0.001082     0.000000  0.001056\n",
              "   1   0.040043     0.001600  0.040166\n",
              "   2   0.283550     0.179200  0.284041\n",
              "   3   0.716450     0.820800  0.716016\n",
              "   4   0.959957     0.998400  0.960024\n",
              "   5   0.998918     1.000000  0.998931\n",
              "6  1   0.007576     0.000129  0.007586\n",
              "   2   0.121212     0.045267  0.121537\n",
              "   3   0.500000     0.500000  0.500472\n",
              "   4   0.878788     0.954733  0.878431\n",
              "   5   0.992424     0.999871  0.992458\n",
              "7  2   0.030303     0.006664  0.030335\n",
              "   3   0.272727     0.213661  0.273299\n",
              "   4   0.727273     0.786339  0.727164\n",
              "   5   0.969697     0.993336  0.969692\n",
              "8  3   0.090909     0.052734  0.091266\n",
              "   4   0.500000     0.500000  0.500448\n",
              "   5   0.909091     0.947266  0.908779\n",
              "9  4   0.227273     0.197531  0.227897\n",
              "   5   0.772727     0.802469  0.772519\n",
              "10 5   0.500000     0.500000  0.500202"
            ]
          },
          "metadata": {},
          "execution_count": 18
        }
      ]
    },
    {
      "cell_type": "code",
      "metadata": {
        "id": "labeled-alias"
      },
      "source": [
        ""
      ],
      "id": "labeled-alias",
      "execution_count": null,
      "outputs": []
    }
  ]
}