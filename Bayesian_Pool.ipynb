{
  "nbformat": 4,
  "nbformat_minor": 5,
  "metadata": {
    "kernelspec": {
      "display_name": "PyTorch",
      "language": "python",
      "name": "pytorch"
    },
    "language_info": {
      "codemirror_mode": {
        "name": "ipython",
        "version": 3
      },
      "file_extension": ".py",
      "mimetype": "text/x-python",
      "name": "python",
      "nbconvert_exporter": "python",
      "pygments_lexer": "ipython3",
      "version": "3.9.1"
    },
    "colab": {
      "name": "Bayesian Pool.ipynb",
      "provenance": [],
      "collapsed_sections": [],
      "include_colab_link": true
    }
  },
  "cells": [
    {
      "cell_type": "markdown",
      "metadata": {
        "id": "view-in-github",
        "colab_type": "text"
      },
      "source": [
        "<a href=\"https://colab.research.google.com/github/borundev/DNN_Lectures/blob/master/Bayesian_Pool.ipynb\" target=\"_parent\"><img src=\"https://colab.research.google.com/assets/colab-badge.svg\" alt=\"Open In Colab\"/></a>"
      ]
    },
    {
      "cell_type": "markdown",
      "metadata": {
        "id": "artificial-miracle"
      },
      "source": [
        "# A Bayesian Pool Game\n",
        "\n",
        "Alice and Bob play a game where Carol comes in randomly pics a location on a pool table but does not tell Alice and Bob about it. Then Alice and Bob take turns shooting the ball and if it lands on the left of Carol's mark Alice scores a point and if it ends on the right Bob scores a point. As a game its bit contrived but it is useful to demonstrate the effectiveness of Bayesian analysis.\n",
        "\n",
        "If Carol's initial location is given by $p \\in [0,1]$ then on each shot Alice wins with a probability $p$ and Bob win's with a probability $(1-p)$. The first one to score 6 points wins the game.\n",
        "\n",
        "So the question is if after $K$ games Alice has won $n_A$ and Bob has won $n_B = K-n_A$ games, what are the odds of Bob winning the tournament? \n",
        "\n",
        "A Frequentist approach would look like this. The point estimate of $p$ is \n",
        "\n",
        "$$\n",
        "\\hat p = \\frac{n_A}{K}\n",
        "$$\n",
        "\n",
        "The maximum number of games that are required to be played to get a decision is 11. Now Bob can win by scoring at least $6-n_B$ in the remaining $11-K$ games so\n",
        "\n",
        "$$\n",
        "P(B|D)_F = \\sum_{\\tilde n_B=6-n_B}^{11-K} \\phantom{a}^{11-K} C_{\\tilde n_B} (\\frac{n_B}{K})^{\\tilde n_B} (\\frac{K-n_B}{K})^{11-K-\\tilde n_B}\n",
        "$$"
      ],
      "id": "artificial-miracle"
    },
    {
      "cell_type": "markdown",
      "metadata": {
        "id": "revised-dividend"
      },
      "source": [
        "The Bayesian approach is different, and as we will confirm, correct. What we want is the probability of Bob's win given the data.\n",
        "\n",
        "$$\n",
        "P(B|D) = \\int P(B|p,D) P(p|D) dp \\\\\n",
        "= \\int P(B|p,D) \\frac{P(D|p) P(p)}{P(D)} dp \\\\\n",
        "= \\frac{ \\int P(B|p,D) P(D|p) P(p) dp}{\\int P(D|p) P(p) dp}\n",
        "$$"
      ],
      "id": "revised-dividend"
    },
    {
      "cell_type": "markdown",
      "metadata": {
        "id": "unauthorized-disclaimer"
      },
      "source": [
        "Let's work out the denominator first\n",
        "\n",
        "$$\n",
        "P(p) = 1 \n",
        "$$\n",
        "so we do not need to worry about it. We have\n",
        "\n",
        "$$\n",
        "P(D|p) = \\phantom{a}^K C_{n_B} (1-p)^{n_B} p^{K-n_B}\n",
        "$$\n",
        "giving us\n",
        "$$\n",
        "P(D) = \\phantom{a}^K C_{n_B} \\int_0^1 p^{K-n_B} (1-p)^{n_B} dp  \\\\\n",
        "= \\phantom{a}^K C_{n_B} \\frac{ n_B! (K-n_B)!}{K+1!} \\\\\n",
        "=\\frac{1}{K+1}\n",
        "$$\n",
        "where we have used the defintion of Beta functions and their relations with Gamma functions.\n",
        "\n",
        "What a cute little result. Think about why this is the case.\n",
        "\n",
        "Now let's work on the neumerator. We have\n",
        "$$\n",
        "P(B|p,D)P(D|p) = \\sum_{\\tilde n_B=6-n_B}^{11-K} \\phantom{a}^{11-K} C_{\\tilde n_B} \\phantom{a}^{K} C_{n_B} (1-p)^{\\tilde n_B+n_B} p^{11-\\tilde n_B -n_B}\n",
        "$$\n",
        "\n",
        "giving us\n",
        "\n",
        "$$\n",
        "P(B|D) = \\frac{(K+1) \\phantom{a}^{K} C_{n_B}}{12!} \\sum_{\\tilde n_B=6-n_B}^{11-K} \\phantom{a}^{11-K} C_{\\tilde n_B}  (n_B+ \\tilde n_B)! (11-n_B- \\tilde n_B)! \n",
        "$$\n",
        "\n",
        "[Addition on 23/10/2022]\n",
        "\n",
        "In fact one does not need to jump through so many hoops (although it is probably useful to do it anyways). One can simply realize that we are concering ourselves with a [posterior predictive distribution](https://en.wikipedia.org/wiki/Posterior_predictive_distribution) of a Binomial which is the [Beta Binomial Distribution](https://en.wikipedia.org/wiki/Beta-binomial_distribution) and thus the answer is\n",
        "\n",
        "$$\n",
        "p(B|D) = \\sum_{\\tilde n_B=6-n_B}^{11-K} BetaBin(\\tilde n_B,11-K,n_B+1,K-n_B+1)\n",
        "$$"
      ],
      "id": "unauthorized-disclaimer"
    },
    {
      "cell_type": "code",
      "metadata": {
        "id": "indian-representation"
      },
      "source": [
        "import numpy as np\n",
        "from scipy.special import gamma\n",
        "from scipy.stats import betabinom"
      ],
      "id": "indian-representation",
      "execution_count": 33,
      "outputs": []
    },
    {
      "cell_type": "code",
      "metadata": {
        "id": "sacred-prison"
      },
      "source": [
        "def fac(a):\n",
        "    return gamma(a+1)\n",
        "\n",
        "def comb(a,b):\n",
        "    return fac(a)/fac(b)/fac(a-b)\n",
        "\n",
        "\n",
        "def pB(K,nb):\n",
        "    if nb>K:\n",
        "        return 0\n",
        "    z=(K+1)*comb(K,nb)/fac(12)\n",
        "    return z*np.sum([comb(11-K,nbt)*fac(nb+nbt)*fac(11-nb-nbt) for nbt in range(6-nb,12-K)])\n",
        "\n",
        "def pB_smart(K,nb):\n",
        "    if nb>K:\n",
        "        return 0\n",
        "    return betabinom.pmf(range(6-nb,12-K),11-K,nb+1,K-nb+1).sum()\n",
        "\n",
        "def pF(K,nb):\n",
        "    if nb>K:\n",
        "        return 0\n",
        "    p=1-nb/K\n",
        "    return np.sum([comb(11-K,nbt) * (1-p)**nbt * (p)**(11-K-nbt) for nbt in range(6-nb,12-K)])"
      ],
      "id": "sacred-prison",
      "execution_count": 11,
      "outputs": []
    },
    {
      "cell_type": "code",
      "metadata": {
        "colab": {
          "base_uri": "https://localhost:8080/"
        },
        "id": "based-rhythm",
        "outputId": "5711ef9c-0ae7-4c2a-94e4-25273723480f"
      },
      "source": [
        "K=8\n",
        "nb=3\n",
        "pB(K,nb),pB_smart(K,nb),pF(K,nb)"
      ],
      "id": "based-rhythm",
      "execution_count": 13,
      "outputs": [
        {
          "output_type": "execute_result",
          "data": {
            "text/plain": [
              "(0.0909090909090909, 0.09090909090909098, 0.052734375)"
            ]
          },
          "metadata": {},
          "execution_count": 13
        }
      ]
    },
    {
      "cell_type": "code",
      "source": [
        "%%timeit\n",
        "pB(K,nb)"
      ],
      "metadata": {
        "colab": {
          "base_uri": "https://localhost:8080/"
        },
        "id": "1OGU_RDs3oBF",
        "outputId": "5481632e-57ae-4134-9470-66187cb76cd0"
      },
      "id": "1OGU_RDs3oBF",
      "execution_count": 16,
      "outputs": [
        {
          "output_type": "stream",
          "name": "stdout",
          "text": [
            "20.5 µs ± 1.15 µs per loop (mean ± std. dev. of 7 runs, 10000 loops each)\n"
          ]
        }
      ]
    },
    {
      "cell_type": "code",
      "source": [
        "%%timeit \n",
        "pB_smart(K,nb)"
      ],
      "metadata": {
        "colab": {
          "base_uri": "https://localhost:8080/"
        },
        "id": "hzV1fVkg3qis",
        "outputId": "0893527e-a90b-4cbd-9189-78a8b7716236"
      },
      "id": "hzV1fVkg3qis",
      "execution_count": 17,
      "outputs": [
        {
          "output_type": "stream",
          "name": "stdout",
          "text": [
            "95.7 µs ± 1.67 µs per loop (mean ± std. dev. of 7 runs, 10000 loops each)\n"
          ]
        }
      ]
    },
    {
      "cell_type": "code",
      "metadata": {
        "colab": {
          "base_uri": "https://localhost:8080/"
        },
        "id": "creative-guatemala",
        "outputId": "87cfcbab-f106-4e17-ad75-1aa5748e02e8"
      },
      "source": [
        "import numpy as np\n",
        "np.random.seed(0)\n",
        "\n",
        "# play 100000 games with randomly-drawn p, between 0 and 1\n",
        "p = np.random.random(10000000)\n",
        "\n",
        "# each game needs at most 11 rolls for one player to reach 6 wins\n",
        "rolls = np.random.random((11, len(p)))\n",
        "\n",
        "# count the cumulative wins for Alice and Bob at each roll\n",
        "Alice_count = np.cumsum(rolls < p, 0)\n",
        "Bob_count = np.cumsum(rolls >= p, 0)\n",
        "\n",
        "# sanity check: total number of wins should equal number of rolls\n",
        "total_wins = Alice_count + Bob_count\n",
        "assert np.all(total_wins.T == np.arange(1, 12))\n",
        "print(\"(Sanity check passed)\")"
      ],
      "id": "creative-guatemala",
      "execution_count": 18,
      "outputs": [
        {
          "output_type": "stream",
          "name": "stdout",
          "text": [
            "(Sanity check passed)\n"
          ]
        }
      ]
    },
    {
      "cell_type": "code",
      "metadata": {
        "id": "ultimate-original"
      },
      "source": [
        "results=[]\n",
        "for K in range(1,12):\n",
        "    for nb in range(K+1):\n",
        "        good_games=Bob_count[K-1]==nb\n",
        "        bob_won=np.sum(Bob_count[:,good_games][10] >= 6)\n",
        "        mc_prob = bob_won * 1. / good_games.sum()\n",
        "\n",
        "        # compute the probability\n",
        "        results.append([K,nb,pF(K,nb),pB(K,nb),pB_smart(K,nb), mc_prob])"
      ],
      "id": "ultimate-original",
      "execution_count": 27,
      "outputs": []
    },
    {
      "cell_type": "code",
      "metadata": {
        "id": "prostate-charm"
      },
      "source": [
        "import pandas as pd"
      ],
      "id": "prostate-charm",
      "execution_count": 21,
      "outputs": []
    },
    {
      "cell_type": "code",
      "metadata": {
        "id": "interim-measure"
      },
      "source": [
        "df=pd.DataFrame(results)"
      ],
      "id": "interim-measure",
      "execution_count": 28,
      "outputs": []
    },
    {
      "cell_type": "code",
      "metadata": {
        "id": "confidential-longer"
      },
      "source": [
        "df.columns=['K','nb','Frequentist','Bayesian','Bayesian Smart','MC']"
      ],
      "id": "confidential-longer",
      "execution_count": 29,
      "outputs": []
    },
    {
      "cell_type": "code",
      "metadata": {
        "id": "boring-filename"
      },
      "source": [
        "df=df.set_index(['K','nb'])"
      ],
      "id": "boring-filename",
      "execution_count": 30,
      "outputs": []
    },
    {
      "cell_type": "markdown",
      "metadata": {
        "id": "CAWPL4Cjk6sF"
      },
      "source": [
        "We look at only rows where all values are not 0 or 1"
      ],
      "id": "CAWPL4Cjk6sF"
    },
    {
      "cell_type": "code",
      "metadata": {
        "id": "exciting-amber"
      },
      "source": [
        "df2=df[~np.stack([np.isclose(df,0).all(1),np.isclose(df,1).all(1)],1).any(1)]"
      ],
      "id": "exciting-amber",
      "execution_count": 31,
      "outputs": []
    },
    {
      "cell_type": "code",
      "metadata": {
        "colab": {
          "base_uri": "https://localhost:8080/",
          "height": 1000
        },
        "id": "historical-preservation",
        "outputId": "4108bf48-9b00-4bd7-97ec-6283aa669365"
      },
      "source": [
        "df2"
      ],
      "id": "historical-preservation",
      "execution_count": 32,
      "outputs": [
        {
          "output_type": "execute_result",
          "data": {
            "text/plain": [
              "       Frequentist  Bayesian  Bayesian Smart        MC\n",
              "K  nb                                                 \n",
              "1  0      0.000000  0.227273        0.227273  0.227231\n",
              "   1      1.000000  0.772727        0.772727  0.772754\n",
              "2  0      0.000000  0.090909        0.090909  0.090904\n",
              "   1      0.500000  0.500000        0.500000  0.500017\n",
              "   2      1.000000  0.909091        0.909091  0.909032\n",
              "3  0      0.000000  0.030303        0.030303  0.030300\n",
              "   1      0.087944  0.272727        0.272727  0.273068\n",
              "   2      0.912056  0.727273        0.727273  0.726722\n",
              "   3      1.000000  0.969697        0.969697  0.969813\n",
              "4  0      0.000000  0.007576        0.007576  0.007599\n",
              "   1      0.012878  0.121212        0.121212  0.121435\n",
              "   2      0.500000  0.500000        0.500000  0.500000\n",
              "   3      0.987122  0.878788        0.878788  0.878504\n",
              "   4      1.000000  0.992424        0.992424  0.992425\n",
              "5  0      0.000000  0.001082        0.001082  0.001056\n",
              "   1      0.001600  0.040043        0.040043  0.040166\n",
              "   2      0.179200  0.283550        0.283550  0.284041\n",
              "   3      0.820800  0.716450        0.716450  0.716016\n",
              "   4      0.998400  0.959957        0.959957  0.960024\n",
              "   5      1.000000  0.998918        0.998918  0.998931\n",
              "6  1      0.000129  0.007576        0.007576  0.007586\n",
              "   2      0.045267  0.121212        0.121212  0.121537\n",
              "   3      0.500000  0.500000        0.500000  0.500472\n",
              "   4      0.954733  0.878788        0.878788  0.878431\n",
              "   5      0.999871  0.992424        0.992424  0.992458\n",
              "7  2      0.006664  0.030303        0.030303  0.030335\n",
              "   3      0.213661  0.272727        0.272727  0.273299\n",
              "   4      0.786339  0.727273        0.727273  0.727164\n",
              "   5      0.993336  0.969697        0.969697  0.969692\n",
              "8  3      0.052734  0.090909        0.090909  0.091266\n",
              "   4      0.500000  0.500000        0.500000  0.500448\n",
              "   5      0.947266  0.909091        0.909091  0.908779\n",
              "9  4      0.197531  0.227273        0.227273  0.227897\n",
              "   5      0.802469  0.772727        0.772727  0.772519\n",
              "10 5      0.500000  0.500000        0.500000  0.500202"
            ],
            "text/html": [
              "\n",
              "  <div id=\"df-53f3e005-81b3-43cb-b09f-ee5b82e146fd\">\n",
              "    <div class=\"colab-df-container\">\n",
              "      <div>\n",
              "<style scoped>\n",
              "    .dataframe tbody tr th:only-of-type {\n",
              "        vertical-align: middle;\n",
              "    }\n",
              "\n",
              "    .dataframe tbody tr th {\n",
              "        vertical-align: top;\n",
              "    }\n",
              "\n",
              "    .dataframe thead th {\n",
              "        text-align: right;\n",
              "    }\n",
              "</style>\n",
              "<table border=\"1\" class=\"dataframe\">\n",
              "  <thead>\n",
              "    <tr style=\"text-align: right;\">\n",
              "      <th></th>\n",
              "      <th></th>\n",
              "      <th>Frequentist</th>\n",
              "      <th>Bayesian</th>\n",
              "      <th>Bayesian Smart</th>\n",
              "      <th>MC</th>\n",
              "    </tr>\n",
              "    <tr>\n",
              "      <th>K</th>\n",
              "      <th>nb</th>\n",
              "      <th></th>\n",
              "      <th></th>\n",
              "      <th></th>\n",
              "      <th></th>\n",
              "    </tr>\n",
              "  </thead>\n",
              "  <tbody>\n",
              "    <tr>\n",
              "      <th rowspan=\"2\" valign=\"top\">1</th>\n",
              "      <th>0</th>\n",
              "      <td>0.000000</td>\n",
              "      <td>0.227273</td>\n",
              "      <td>0.227273</td>\n",
              "      <td>0.227231</td>\n",
              "    </tr>\n",
              "    <tr>\n",
              "      <th>1</th>\n",
              "      <td>1.000000</td>\n",
              "      <td>0.772727</td>\n",
              "      <td>0.772727</td>\n",
              "      <td>0.772754</td>\n",
              "    </tr>\n",
              "    <tr>\n",
              "      <th rowspan=\"3\" valign=\"top\">2</th>\n",
              "      <th>0</th>\n",
              "      <td>0.000000</td>\n",
              "      <td>0.090909</td>\n",
              "      <td>0.090909</td>\n",
              "      <td>0.090904</td>\n",
              "    </tr>\n",
              "    <tr>\n",
              "      <th>1</th>\n",
              "      <td>0.500000</td>\n",
              "      <td>0.500000</td>\n",
              "      <td>0.500000</td>\n",
              "      <td>0.500017</td>\n",
              "    </tr>\n",
              "    <tr>\n",
              "      <th>2</th>\n",
              "      <td>1.000000</td>\n",
              "      <td>0.909091</td>\n",
              "      <td>0.909091</td>\n",
              "      <td>0.909032</td>\n",
              "    </tr>\n",
              "    <tr>\n",
              "      <th rowspan=\"4\" valign=\"top\">3</th>\n",
              "      <th>0</th>\n",
              "      <td>0.000000</td>\n",
              "      <td>0.030303</td>\n",
              "      <td>0.030303</td>\n",
              "      <td>0.030300</td>\n",
              "    </tr>\n",
              "    <tr>\n",
              "      <th>1</th>\n",
              "      <td>0.087944</td>\n",
              "      <td>0.272727</td>\n",
              "      <td>0.272727</td>\n",
              "      <td>0.273068</td>\n",
              "    </tr>\n",
              "    <tr>\n",
              "      <th>2</th>\n",
              "      <td>0.912056</td>\n",
              "      <td>0.727273</td>\n",
              "      <td>0.727273</td>\n",
              "      <td>0.726722</td>\n",
              "    </tr>\n",
              "    <tr>\n",
              "      <th>3</th>\n",
              "      <td>1.000000</td>\n",
              "      <td>0.969697</td>\n",
              "      <td>0.969697</td>\n",
              "      <td>0.969813</td>\n",
              "    </tr>\n",
              "    <tr>\n",
              "      <th rowspan=\"5\" valign=\"top\">4</th>\n",
              "      <th>0</th>\n",
              "      <td>0.000000</td>\n",
              "      <td>0.007576</td>\n",
              "      <td>0.007576</td>\n",
              "      <td>0.007599</td>\n",
              "    </tr>\n",
              "    <tr>\n",
              "      <th>1</th>\n",
              "      <td>0.012878</td>\n",
              "      <td>0.121212</td>\n",
              "      <td>0.121212</td>\n",
              "      <td>0.121435</td>\n",
              "    </tr>\n",
              "    <tr>\n",
              "      <th>2</th>\n",
              "      <td>0.500000</td>\n",
              "      <td>0.500000</td>\n",
              "      <td>0.500000</td>\n",
              "      <td>0.500000</td>\n",
              "    </tr>\n",
              "    <tr>\n",
              "      <th>3</th>\n",
              "      <td>0.987122</td>\n",
              "      <td>0.878788</td>\n",
              "      <td>0.878788</td>\n",
              "      <td>0.878504</td>\n",
              "    </tr>\n",
              "    <tr>\n",
              "      <th>4</th>\n",
              "      <td>1.000000</td>\n",
              "      <td>0.992424</td>\n",
              "      <td>0.992424</td>\n",
              "      <td>0.992425</td>\n",
              "    </tr>\n",
              "    <tr>\n",
              "      <th rowspan=\"6\" valign=\"top\">5</th>\n",
              "      <th>0</th>\n",
              "      <td>0.000000</td>\n",
              "      <td>0.001082</td>\n",
              "      <td>0.001082</td>\n",
              "      <td>0.001056</td>\n",
              "    </tr>\n",
              "    <tr>\n",
              "      <th>1</th>\n",
              "      <td>0.001600</td>\n",
              "      <td>0.040043</td>\n",
              "      <td>0.040043</td>\n",
              "      <td>0.040166</td>\n",
              "    </tr>\n",
              "    <tr>\n",
              "      <th>2</th>\n",
              "      <td>0.179200</td>\n",
              "      <td>0.283550</td>\n",
              "      <td>0.283550</td>\n",
              "      <td>0.284041</td>\n",
              "    </tr>\n",
              "    <tr>\n",
              "      <th>3</th>\n",
              "      <td>0.820800</td>\n",
              "      <td>0.716450</td>\n",
              "      <td>0.716450</td>\n",
              "      <td>0.716016</td>\n",
              "    </tr>\n",
              "    <tr>\n",
              "      <th>4</th>\n",
              "      <td>0.998400</td>\n",
              "      <td>0.959957</td>\n",
              "      <td>0.959957</td>\n",
              "      <td>0.960024</td>\n",
              "    </tr>\n",
              "    <tr>\n",
              "      <th>5</th>\n",
              "      <td>1.000000</td>\n",
              "      <td>0.998918</td>\n",
              "      <td>0.998918</td>\n",
              "      <td>0.998931</td>\n",
              "    </tr>\n",
              "    <tr>\n",
              "      <th rowspan=\"5\" valign=\"top\">6</th>\n",
              "      <th>1</th>\n",
              "      <td>0.000129</td>\n",
              "      <td>0.007576</td>\n",
              "      <td>0.007576</td>\n",
              "      <td>0.007586</td>\n",
              "    </tr>\n",
              "    <tr>\n",
              "      <th>2</th>\n",
              "      <td>0.045267</td>\n",
              "      <td>0.121212</td>\n",
              "      <td>0.121212</td>\n",
              "      <td>0.121537</td>\n",
              "    </tr>\n",
              "    <tr>\n",
              "      <th>3</th>\n",
              "      <td>0.500000</td>\n",
              "      <td>0.500000</td>\n",
              "      <td>0.500000</td>\n",
              "      <td>0.500472</td>\n",
              "    </tr>\n",
              "    <tr>\n",
              "      <th>4</th>\n",
              "      <td>0.954733</td>\n",
              "      <td>0.878788</td>\n",
              "      <td>0.878788</td>\n",
              "      <td>0.878431</td>\n",
              "    </tr>\n",
              "    <tr>\n",
              "      <th>5</th>\n",
              "      <td>0.999871</td>\n",
              "      <td>0.992424</td>\n",
              "      <td>0.992424</td>\n",
              "      <td>0.992458</td>\n",
              "    </tr>\n",
              "    <tr>\n",
              "      <th rowspan=\"4\" valign=\"top\">7</th>\n",
              "      <th>2</th>\n",
              "      <td>0.006664</td>\n",
              "      <td>0.030303</td>\n",
              "      <td>0.030303</td>\n",
              "      <td>0.030335</td>\n",
              "    </tr>\n",
              "    <tr>\n",
              "      <th>3</th>\n",
              "      <td>0.213661</td>\n",
              "      <td>0.272727</td>\n",
              "      <td>0.272727</td>\n",
              "      <td>0.273299</td>\n",
              "    </tr>\n",
              "    <tr>\n",
              "      <th>4</th>\n",
              "      <td>0.786339</td>\n",
              "      <td>0.727273</td>\n",
              "      <td>0.727273</td>\n",
              "      <td>0.727164</td>\n",
              "    </tr>\n",
              "    <tr>\n",
              "      <th>5</th>\n",
              "      <td>0.993336</td>\n",
              "      <td>0.969697</td>\n",
              "      <td>0.969697</td>\n",
              "      <td>0.969692</td>\n",
              "    </tr>\n",
              "    <tr>\n",
              "      <th rowspan=\"3\" valign=\"top\">8</th>\n",
              "      <th>3</th>\n",
              "      <td>0.052734</td>\n",
              "      <td>0.090909</td>\n",
              "      <td>0.090909</td>\n",
              "      <td>0.091266</td>\n",
              "    </tr>\n",
              "    <tr>\n",
              "      <th>4</th>\n",
              "      <td>0.500000</td>\n",
              "      <td>0.500000</td>\n",
              "      <td>0.500000</td>\n",
              "      <td>0.500448</td>\n",
              "    </tr>\n",
              "    <tr>\n",
              "      <th>5</th>\n",
              "      <td>0.947266</td>\n",
              "      <td>0.909091</td>\n",
              "      <td>0.909091</td>\n",
              "      <td>0.908779</td>\n",
              "    </tr>\n",
              "    <tr>\n",
              "      <th rowspan=\"2\" valign=\"top\">9</th>\n",
              "      <th>4</th>\n",
              "      <td>0.197531</td>\n",
              "      <td>0.227273</td>\n",
              "      <td>0.227273</td>\n",
              "      <td>0.227897</td>\n",
              "    </tr>\n",
              "    <tr>\n",
              "      <th>5</th>\n",
              "      <td>0.802469</td>\n",
              "      <td>0.772727</td>\n",
              "      <td>0.772727</td>\n",
              "      <td>0.772519</td>\n",
              "    </tr>\n",
              "    <tr>\n",
              "      <th>10</th>\n",
              "      <th>5</th>\n",
              "      <td>0.500000</td>\n",
              "      <td>0.500000</td>\n",
              "      <td>0.500000</td>\n",
              "      <td>0.500202</td>\n",
              "    </tr>\n",
              "  </tbody>\n",
              "</table>\n",
              "</div>\n",
              "      <button class=\"colab-df-convert\" onclick=\"convertToInteractive('df-53f3e005-81b3-43cb-b09f-ee5b82e146fd')\"\n",
              "              title=\"Convert this dataframe to an interactive table.\"\n",
              "              style=\"display:none;\">\n",
              "        \n",
              "  <svg xmlns=\"http://www.w3.org/2000/svg\" height=\"24px\"viewBox=\"0 0 24 24\"\n",
              "       width=\"24px\">\n",
              "    <path d=\"M0 0h24v24H0V0z\" fill=\"none\"/>\n",
              "    <path d=\"M18.56 5.44l.94 2.06.94-2.06 2.06-.94-2.06-.94-.94-2.06-.94 2.06-2.06.94zm-11 1L8.5 8.5l.94-2.06 2.06-.94-2.06-.94L8.5 2.5l-.94 2.06-2.06.94zm10 10l.94 2.06.94-2.06 2.06-.94-2.06-.94-.94-2.06-.94 2.06-2.06.94z\"/><path d=\"M17.41 7.96l-1.37-1.37c-.4-.4-.92-.59-1.43-.59-.52 0-1.04.2-1.43.59L10.3 9.45l-7.72 7.72c-.78.78-.78 2.05 0 2.83L4 21.41c.39.39.9.59 1.41.59.51 0 1.02-.2 1.41-.59l7.78-7.78 2.81-2.81c.8-.78.8-2.07 0-2.86zM5.41 20L4 18.59l7.72-7.72 1.47 1.35L5.41 20z\"/>\n",
              "  </svg>\n",
              "      </button>\n",
              "      \n",
              "  <style>\n",
              "    .colab-df-container {\n",
              "      display:flex;\n",
              "      flex-wrap:wrap;\n",
              "      gap: 12px;\n",
              "    }\n",
              "\n",
              "    .colab-df-convert {\n",
              "      background-color: #E8F0FE;\n",
              "      border: none;\n",
              "      border-radius: 50%;\n",
              "      cursor: pointer;\n",
              "      display: none;\n",
              "      fill: #1967D2;\n",
              "      height: 32px;\n",
              "      padding: 0 0 0 0;\n",
              "      width: 32px;\n",
              "    }\n",
              "\n",
              "    .colab-df-convert:hover {\n",
              "      background-color: #E2EBFA;\n",
              "      box-shadow: 0px 1px 2px rgba(60, 64, 67, 0.3), 0px 1px 3px 1px rgba(60, 64, 67, 0.15);\n",
              "      fill: #174EA6;\n",
              "    }\n",
              "\n",
              "    [theme=dark] .colab-df-convert {\n",
              "      background-color: #3B4455;\n",
              "      fill: #D2E3FC;\n",
              "    }\n",
              "\n",
              "    [theme=dark] .colab-df-convert:hover {\n",
              "      background-color: #434B5C;\n",
              "      box-shadow: 0px 1px 3px 1px rgba(0, 0, 0, 0.15);\n",
              "      filter: drop-shadow(0px 1px 2px rgba(0, 0, 0, 0.3));\n",
              "      fill: #FFFFFF;\n",
              "    }\n",
              "  </style>\n",
              "\n",
              "      <script>\n",
              "        const buttonEl =\n",
              "          document.querySelector('#df-53f3e005-81b3-43cb-b09f-ee5b82e146fd button.colab-df-convert');\n",
              "        buttonEl.style.display =\n",
              "          google.colab.kernel.accessAllowed ? 'block' : 'none';\n",
              "\n",
              "        async function convertToInteractive(key) {\n",
              "          const element = document.querySelector('#df-53f3e005-81b3-43cb-b09f-ee5b82e146fd');\n",
              "          const dataTable =\n",
              "            await google.colab.kernel.invokeFunction('convertToInteractive',\n",
              "                                                     [key], {});\n",
              "          if (!dataTable) return;\n",
              "\n",
              "          const docLinkHtml = 'Like what you see? Visit the ' +\n",
              "            '<a target=\"_blank\" href=https://colab.research.google.com/notebooks/data_table.ipynb>data table notebook</a>'\n",
              "            + ' to learn more about interactive tables.';\n",
              "          element.innerHTML = '';\n",
              "          dataTable['output_type'] = 'display_data';\n",
              "          await google.colab.output.renderOutput(dataTable, element);\n",
              "          const docLink = document.createElement('div');\n",
              "          docLink.innerHTML = docLinkHtml;\n",
              "          element.appendChild(docLink);\n",
              "        }\n",
              "      </script>\n",
              "    </div>\n",
              "  </div>\n",
              "  "
            ]
          },
          "metadata": {},
          "execution_count": 32
        }
      ]
    },
    {
      "cell_type": "code",
      "metadata": {
        "id": "labeled-alias"
      },
      "source": [],
      "id": "labeled-alias",
      "execution_count": null,
      "outputs": []
    }
  ]
}